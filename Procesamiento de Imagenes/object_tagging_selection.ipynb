{
 "cells": [
  {
   "cell_type": "code",
   "execution_count": 2,
   "metadata": {},
   "outputs": [],
   "source": [
    "import cv2\n",
    "import numpy as np\n",
    "import matplotlib.pyplot as plt"
   ]
  },
  {
   "cell_type": "code",
   "execution_count": 3,
   "metadata": {},
   "outputs": [],
   "source": [
    "#img = cv2.imread('fruta.jpg')\n",
    "#img = cv2.imread('bananos.jpg')\n",
    "img = cv2.imread('000078.jpg')"
   ]
  },
  {
   "cell_type": "code",
   "execution_count": 4,
   "metadata": {},
   "outputs": [],
   "source": [
    "hsv =  cv2.cvtColor(img, cv2.COLOR_BGR2HSV)"
   ]
  },
  {
   "cell_type": "code",
   "execution_count": 5,
   "metadata": {},
   "outputs": [],
   "source": [
    "I=cv2.cvtColor(img, cv2.COLOR_BGR2GRAY)"
   ]
  },
  {
   "cell_type": "markdown",
   "metadata": {},
   "source": [
    "otsu method: we want to extract the picture from the background\n",
    "to do this we consider the different grey levels \n",
    "this is done automatically with a function\n",
    "we first set a thresold"
   ]
  },
  {
   "cell_type": "code",
   "execution_count": 6,
   "metadata": {},
   "outputs": [],
   "source": [
    "threshold,_ = cv2.threshold(I, 0, 255, cv2.THRESH_OTSU)\n"
   ]
  },
  {
   "cell_type": "code",
   "execution_count": 6,
   "metadata": {},
   "outputs": [],
   "source": [
    "mask = np.uint8((I<threshold)*255)\n",
    "\n",
    "#receives binary image and returns the number of labels and the label matrix\n",
    "output = cv2.connectedComponentsWithStats(mask, 4, cv2.CV_32)"
   ]
  },
  {
   "cell_type": "code",
   "execution_count": 7,
   "metadata": {},
   "outputs": [],
   "source": [
    "data=I.flatten()"
   ]
  },
  {
   "cell_type": "code",
   "execution_count": 8,
   "metadata": {},
   "outputs": [
    {
     "data": {
      "text/plain": [
       "(array([1.000e+00, 1.000e+00, 2.000e+00, 1.000e+00, 2.000e+00, 7.000e+00,\n",
       "        8.000e+00, 1.000e+01, 1.500e+01, 2.100e+01, 3.200e+01, 4.700e+01,\n",
       "        1.900e+01, 4.700e+01, 8.400e+01, 1.060e+02, 1.570e+02, 2.110e+02,\n",
       "        1.060e+02, 2.350e+02, 3.000e+02, 3.250e+02, 3.680e+02, 4.170e+02,\n",
       "        1.930e+02, 4.160e+02, 4.350e+02, 4.400e+02, 4.510e+02, 3.850e+02,\n",
       "        3.750e+02, 2.370e+02, 3.810e+02, 3.550e+02, 3.180e+02, 2.940e+02,\n",
       "        2.590e+02, 1.070e+02, 1.990e+02, 1.990e+02, 1.760e+02, 1.480e+02,\n",
       "        1.530e+02, 5.900e+01, 1.260e+02, 1.240e+02, 1.230e+02, 1.300e+02,\n",
       "        1.400e+02, 5.500e+01, 1.180e+02, 1.200e+02, 1.530e+02, 1.780e+02,\n",
       "        2.490e+02, 3.770e+02, 2.330e+02, 6.450e+02, 7.760e+02, 8.340e+02,\n",
       "        8.920e+02, 1.109e+03, 5.780e+02, 1.303e+03, 1.278e+03, 1.217e+03,\n",
       "        1.306e+03, 1.418e+03, 7.770e+02, 1.616e+03, 1.796e+03, 1.714e+03,\n",
       "        1.732e+03, 1.638e+03, 9.040e+02, 1.825e+03, 1.883e+03, 2.038e+03,\n",
       "        2.320e+03, 2.590e+03, 2.736e+03, 1.404e+03, 2.607e+03, 2.233e+03,\n",
       "        1.731e+03, 1.107e+03, 6.920e+02, 2.350e+02, 4.100e+02, 2.610e+02,\n",
       "        1.580e+02, 1.080e+02, 5.400e+01, 2.100e+01, 3.600e+01, 1.500e+01,\n",
       "        1.000e+01, 8.000e+00, 8.000e+00, 5.000e+00]),\n",
       " array([  7.  ,   8.84,  10.68,  12.52,  14.36,  16.2 ,  18.04,  19.88,\n",
       "         21.72,  23.56,  25.4 ,  27.24,  29.08,  30.92,  32.76,  34.6 ,\n",
       "         36.44,  38.28,  40.12,  41.96,  43.8 ,  45.64,  47.48,  49.32,\n",
       "         51.16,  53.  ,  54.84,  56.68,  58.52,  60.36,  62.2 ,  64.04,\n",
       "         65.88,  67.72,  69.56,  71.4 ,  73.24,  75.08,  76.92,  78.76,\n",
       "         80.6 ,  82.44,  84.28,  86.12,  87.96,  89.8 ,  91.64,  93.48,\n",
       "         95.32,  97.16,  99.  , 100.84, 102.68, 104.52, 106.36, 108.2 ,\n",
       "        110.04, 111.88, 113.72, 115.56, 117.4 , 119.24, 121.08, 122.92,\n",
       "        124.76, 126.6 , 128.44, 130.28, 132.12, 133.96, 135.8 , 137.64,\n",
       "        139.48, 141.32, 143.16, 145.  , 146.84, 148.68, 150.52, 152.36,\n",
       "        154.2 , 156.04, 157.88, 159.72, 161.56, 163.4 , 165.24, 167.08,\n",
       "        168.92, 170.76, 172.6 , 174.44, 176.28, 178.12, 179.96, 181.8 ,\n",
       "        183.64, 185.48, 187.32, 189.16, 191.  ]),\n",
       " <BarContainer object of 100 artists>)"
      ]
     },
     "execution_count": 8,
     "metadata": {},
     "output_type": "execute_result"
    },
    {
     "data": {
      "image/png": "[encoded data removed]",
      "text/plain": [
       "<Figure size 640x480 with 1 Axes>"
      ]
     },
     "metadata": {},
     "output_type": "display_data"
    }
   ],
   "source": [
    "plt.hist(data, bins=100)"
   ]
  },
  {
   "cell_type": "code",
   "execution_count": 9,
   "metadata": {},
   "outputs": [
    {
     "data": {
      "text/plain": [
       "(array([1.000e+00, 0.000e+00, 0.000e+00, 0.000e+00, 0.000e+00, 0.000e+00,\n",
       "        0.000e+00, 0.000e+00, 0.000e+00, 0.000e+00, 0.000e+00, 0.000e+00,\n",
       "        0.000e+00, 0.000e+00, 0.000e+00, 0.000e+00, 0.000e+00, 0.000e+00,\n",
       "        0.000e+00, 0.000e+00, 0.000e+00, 1.000e+00, 0.000e+00, 0.000e+00,\n",
       "        0.000e+00, 0.000e+00, 0.000e+00, 1.000e+00, 0.000e+00, 0.000e+00,\n",
       "        0.000e+00, 0.000e+00, 2.000e+00, 0.000e+00, 0.000e+00, 0.000e+00,\n",
       "        0.000e+00, 0.000e+00, 0.000e+00, 0.000e+00, 0.000e+00, 0.000e+00,\n",
       "        0.000e+00, 0.000e+00, 0.000e+00, 0.000e+00, 0.000e+00, 0.000e+00,\n",
       "        1.000e+00, 0.000e+00, 0.000e+00, 0.000e+00, 0.000e+00, 0.000e+00,\n",
       "        3.000e+00, 0.000e+00, 0.000e+00, 0.000e+00, 0.000e+00, 2.000e+00,\n",
       "        0.000e+00, 0.000e+00, 0.000e+00, 0.000e+00, 2.000e+00, 0.000e+00,\n",
       "        0.000e+00, 0.000e+00, 0.000e+00, 0.000e+00, 3.000e+00, 0.000e+00,\n",
       "        0.000e+00, 0.000e+00, 0.000e+00, 1.200e+01, 0.000e+00, 0.000e+00,\n",
       "        0.000e+00, 0.000e+00, 0.000e+00, 4.000e+00, 0.000e+00, 0.000e+00,\n",
       "        0.000e+00, 0.000e+00, 4.000e+00, 0.000e+00, 0.000e+00, 0.000e+00,\n",
       "        0.000e+00, 8.000e+00, 0.000e+00, 0.000e+00, 0.000e+00, 0.000e+00,\n",
       "        0.000e+00, 8.000e+00, 0.000e+00, 0.000e+00, 0.000e+00, 0.000e+00,\n",
       "        7.000e+00, 0.000e+00, 0.000e+00, 0.000e+00, 0.000e+00, 0.000e+00,\n",
       "        1.200e+01, 0.000e+00, 0.000e+00, 0.000e+00, 0.000e+00, 1.500e+01,\n",
       "        0.000e+00, 0.000e+00, 0.000e+00, 0.000e+00, 2.200e+01, 0.000e+00,\n",
       "        0.000e+00, 0.000e+00, 0.000e+00, 0.000e+00, 2.200e+01, 0.000e+00,\n",
       "        0.000e+00, 0.000e+00, 0.000e+00, 1.800e+01, 0.000e+00, 0.000e+00,\n",
       "        0.000e+00, 0.000e+00, 0.000e+00, 2.300e+01, 0.000e+00, 0.000e+00,\n",
       "        0.000e+00, 0.000e+00, 1.900e+01, 0.000e+00, 0.000e+00, 0.000e+00,\n",
       "        0.000e+00, 2.000e+01, 0.000e+00, 0.000e+00, 0.000e+00, 0.000e+00,\n",
       "        0.000e+00, 3.300e+01, 0.000e+00, 0.000e+00, 0.000e+00, 0.000e+00,\n",
       "        4.100e+01, 0.000e+00, 0.000e+00, 0.000e+00, 0.000e+00, 0.000e+00,\n",
       "        4.000e+01, 0.000e+00, 0.000e+00, 0.000e+00, 0.000e+00, 4.700e+01,\n",
       "        0.000e+00, 0.000e+00, 0.000e+00, 0.000e+00, 5.600e+01, 0.000e+00,\n",
       "        0.000e+00, 0.000e+00, 0.000e+00, 0.000e+00, 6.000e+01, 0.000e+00,\n",
       "        0.000e+00, 0.000e+00, 0.000e+00, 9.100e+01, 0.000e+00, 0.000e+00,\n",
       "        0.000e+00, 0.000e+00, 0.000e+00, 7.800e+01, 0.000e+00, 0.000e+00,\n",
       "        0.000e+00, 0.000e+00, 1.010e+02, 0.000e+00, 0.000e+00, 0.000e+00,\n",
       "        0.000e+00, 0.000e+00, 1.020e+02, 0.000e+00, 0.000e+00, 0.000e+00,\n",
       "        0.000e+00, 1.220e+02, 0.000e+00, 0.000e+00, 0.000e+00, 0.000e+00,\n",
       "        1.140e+02, 0.000e+00, 0.000e+00, 0.000e+00, 0.000e+00, 0.000e+00,\n",
       "        1.200e+02, 0.000e+00, 0.000e+00, 0.000e+00, 0.000e+00, 9.700e+01,\n",
       "        0.000e+00, 0.000e+00, 0.000e+00, 0.000e+00, 0.000e+00, 1.400e+02,\n",
       "        0.000e+00, 0.000e+00, 0.000e+00, 0.000e+00, 1.560e+02, 0.000e+00,\n",
       "        0.000e+00, 0.000e+00, 0.000e+00, 1.420e+02, 0.000e+00, 0.000e+00,\n",
       "        0.000e+00, 0.000e+00, 0.000e+00, 1.630e+02, 0.000e+00, 0.000e+00,\n",
       "        0.000e+00, 0.000e+00, 1.660e+02, 0.000e+00, 0.000e+00, 0.000e+00,\n",
       "        0.000e+00, 0.000e+00, 1.840e+02, 0.000e+00, 0.000e+00, 0.000e+00,\n",
       "        0.000e+00, 1.630e+02, 0.000e+00, 0.000e+00, 0.000e+00, 0.000e+00,\n",
       "        1.860e+02, 0.000e+00, 0.000e+00, 0.000e+00, 0.000e+00, 0.000e+00,\n",
       "        1.880e+02, 0.000e+00, 0.000e+00, 0.000e+00, 0.000e+00, 1.840e+02,\n",
       "        0.000e+00, 0.000e+00, 0.000e+00, 0.000e+00, 0.000e+00, 1.890e+02,\n",
       "        0.000e+00, 0.000e+00, 0.000e+00, 0.000e+00, 2.240e+02, 0.000e+00,\n",
       "        0.000e+00, 0.000e+00, 0.000e+00, 2.160e+02, 0.000e+00, 0.000e+00,\n",
       "        0.000e+00, 0.000e+00, 0.000e+00, 2.140e+02, 0.000e+00, 0.000e+00,\n",
       "        0.000e+00, 0.000e+00, 1.810e+02, 0.000e+00, 0.000e+00, 0.000e+00,\n",
       "        0.000e+00, 0.000e+00, 2.100e+02, 0.000e+00, 0.000e+00, 0.000e+00,\n",
       "        0.000e+00, 2.160e+02, 0.000e+00, 0.000e+00, 0.000e+00, 0.000e+00,\n",
       "        2.120e+02, 0.000e+00, 0.000e+00, 0.000e+00, 0.000e+00, 0.000e+00,\n",
       "        2.210e+02, 0.000e+00, 0.000e+00, 0.000e+00, 0.000e+00, 1.740e+02,\n",
       "        0.000e+00, 0.000e+00, 0.000e+00, 0.000e+00, 0.000e+00, 1.950e+02,\n",
       "        0.000e+00, 0.000e+00, 0.000e+00, 0.000e+00, 1.850e+02, 0.000e+00,\n",
       "        0.000e+00, 0.000e+00, 0.000e+00, 1.860e+02, 0.000e+00, 0.000e+00,\n",
       "        0.000e+00, 0.000e+00, 0.000e+00, 1.730e+02, 0.000e+00, 0.000e+00,\n",
       "        0.000e+00, 0.000e+00, 1.760e+02, 0.000e+00, 0.000e+00, 0.000e+00,\n",
       "        0.000e+00, 0.000e+00, 1.840e+02, 0.000e+00, 0.000e+00, 0.000e+00,\n",
       "        0.000e+00, 1.570e+02, 0.000e+00, 0.000e+00, 0.000e+00, 0.000e+00,\n",
       "        1.460e+02, 0.000e+00, 0.000e+00, 0.000e+00, 0.000e+00, 0.000e+00,\n",
       "        1.390e+02, 0.000e+00, 0.000e+00, 0.000e+00, 0.000e+00, 1.630e+02,\n",
       "        0.000e+00, 0.000e+00, 0.000e+00, 0.000e+00, 0.000e+00, 1.430e+02,\n",
       "        0.000e+00, 0.000e+00, 0.000e+00, 0.000e+00, 1.420e+02, 0.000e+00,\n",
       "        0.000e+00, 0.000e+00, 0.000e+00, 0.000e+00, 1.270e+02, 0.000e+00,\n",
       "        0.000e+00, 0.000e+00, 0.000e+00, 1.210e+02, 0.000e+00, 0.000e+00,\n",
       "        0.000e+00, 0.000e+00, 1.060e+02, 0.000e+00, 0.000e+00, 0.000e+00,\n",
       "        0.000e+00, 0.000e+00, 1.100e+02, 0.000e+00, 0.000e+00, 0.000e+00,\n",
       "        0.000e+00, 9.800e+01, 0.000e+00, 0.000e+00, 0.000e+00, 0.000e+00,\n",
       "        0.000e+00, 1.160e+02, 0.000e+00, 0.000e+00, 0.000e+00, 0.000e+00,\n",
       "        1.020e+02, 0.000e+00, 0.000e+00, 0.000e+00, 0.000e+00, 7.000e+01,\n",
       "        0.000e+00, 0.000e+00, 0.000e+00, 0.000e+00, 0.000e+00, 7.900e+01,\n",
       "        0.000e+00, 0.000e+00, 0.000e+00, 0.000e+00, 9.600e+01, 0.000e+00,\n",
       "        0.000e+00, 0.000e+00, 0.000e+00, 0.000e+00, 7.000e+01, 0.000e+00,\n",
       "        0.000e+00, 0.000e+00, 0.000e+00, 8.000e+01, 0.000e+00, 0.000e+00,\n",
       "        0.000e+00, 0.000e+00, 7.400e+01, 0.000e+00, 0.000e+00, 0.000e+00,\n",
       "        0.000e+00, 0.000e+00, 7.600e+01, 0.000e+00, 0.000e+00, 0.000e+00,\n",
       "        0.000e+00, 6.300e+01, 0.000e+00, 0.000e+00, 0.000e+00, 0.000e+00,\n",
       "        0.000e+00, 7.300e+01, 0.000e+00, 0.000e+00, 0.000e+00, 0.000e+00,\n",
       "        7.800e+01, 0.000e+00, 0.000e+00, 0.000e+00, 0.000e+00, 7.100e+01,\n",
       "        0.000e+00, 0.000e+00, 0.000e+00, 0.000e+00, 0.000e+00, 8.500e+01,\n",
       "        0.000e+00, 0.000e+00, 0.000e+00, 0.000e+00, 8.700e+01, 0.000e+00,\n",
       "        0.000e+00, 0.000e+00, 0.000e+00, 0.000e+00, 9.200e+01, 0.000e+00,\n",
       "        0.000e+00, 0.000e+00, 0.000e+00, 1.100e+02, 0.000e+00, 0.000e+00,\n",
       "        0.000e+00, 0.000e+00, 1.310e+02, 0.000e+00, 0.000e+00, 0.000e+00,\n",
       "        0.000e+00, 0.000e+00, 1.540e+02, 0.000e+00, 0.000e+00, 0.000e+00,\n",
       "        0.000e+00, 1.580e+02, 0.000e+00, 0.000e+00, 0.000e+00, 0.000e+00,\n",
       "        0.000e+00, 1.890e+02, 0.000e+00, 0.000e+00, 0.000e+00, 0.000e+00,\n",
       "        2.570e+02, 0.000e+00, 0.000e+00, 0.000e+00, 0.000e+00, 2.720e+02,\n",
       "        0.000e+00, 0.000e+00, 0.000e+00, 0.000e+00, 0.000e+00, 3.040e+02,\n",
       "        0.000e+00, 0.000e+00, 0.000e+00, 0.000e+00, 3.410e+02, 0.000e+00,\n",
       "        0.000e+00, 0.000e+00, 0.000e+00, 0.000e+00, 4.140e+02, 0.000e+00,\n",
       "        0.000e+00, 0.000e+00, 0.000e+00, 4.200e+02, 0.000e+00, 0.000e+00,\n",
       "        0.000e+00, 0.000e+00, 4.100e+02, 0.000e+00, 0.000e+00, 0.000e+00,\n",
       "        0.000e+00, 0.000e+00, 4.790e+02, 0.000e+00, 0.000e+00, 0.000e+00,\n",
       "        0.000e+00, 5.630e+02, 0.000e+00, 0.000e+00, 0.000e+00, 0.000e+00,\n",
       "        0.000e+00, 5.180e+02, 0.000e+00, 0.000e+00, 0.000e+00, 0.000e+00,\n",
       "        5.870e+02, 0.000e+00, 0.000e+00, 0.000e+00, 0.000e+00, 0.000e+00,\n",
       "        6.380e+02, 0.000e+00, 0.000e+00, 0.000e+00, 0.000e+00, 6.410e+02,\n",
       "        0.000e+00, 0.000e+00, 0.000e+00, 0.000e+00, 6.530e+02, 0.000e+00,\n",
       "        0.000e+00, 0.000e+00, 0.000e+00, 0.000e+00, 6.110e+02, 0.000e+00,\n",
       "        0.000e+00, 0.000e+00, 0.000e+00, 6.390e+02, 0.000e+00, 0.000e+00,\n",
       "        0.000e+00, 0.000e+00, 0.000e+00, 6.390e+02, 0.000e+00, 0.000e+00,\n",
       "        0.000e+00, 0.000e+00, 6.610e+02, 0.000e+00, 0.000e+00, 0.000e+00,\n",
       "        0.000e+00, 7.130e+02, 0.000e+00, 0.000e+00, 0.000e+00, 0.000e+00,\n",
       "        0.000e+00, 7.510e+02, 0.000e+00, 0.000e+00, 0.000e+00, 0.000e+00,\n",
       "        8.180e+02, 0.000e+00, 0.000e+00, 0.000e+00, 0.000e+00, 0.000e+00,\n",
       "        8.050e+02, 0.000e+00, 0.000e+00, 0.000e+00, 0.000e+00, 8.260e+02,\n",
       "        0.000e+00, 0.000e+00, 0.000e+00, 0.000e+00, 8.320e+02, 0.000e+00,\n",
       "        0.000e+00, 0.000e+00, 0.000e+00, 0.000e+00, 8.380e+02, 0.000e+00,\n",
       "        0.000e+00, 0.000e+00, 0.000e+00, 7.990e+02, 0.000e+00, 0.000e+00,\n",
       "        0.000e+00, 0.000e+00, 0.000e+00, 8.120e+02, 0.000e+00, 0.000e+00,\n",
       "        0.000e+00, 0.000e+00, 7.550e+02, 0.000e+00, 0.000e+00, 0.000e+00,\n",
       "        0.000e+00, 8.170e+02, 0.000e+00, 0.000e+00, 0.000e+00, 0.000e+00,\n",
       "        0.000e+00, 7.600e+02, 0.000e+00, 0.000e+00, 0.000e+00, 0.000e+00,\n",
       "        8.190e+02, 0.000e+00, 0.000e+00, 0.000e+00, 0.000e+00, 0.000e+00,\n",
       "        7.900e+02, 0.000e+00, 0.000e+00, 0.000e+00, 0.000e+00, 8.390e+02,\n",
       "        0.000e+00, 0.000e+00, 0.000e+00, 0.000e+00, 7.950e+02, 0.000e+00,\n",
       "        0.000e+00, 0.000e+00, 0.000e+00, 0.000e+00, 7.960e+02, 0.000e+00,\n",
       "        0.000e+00, 0.000e+00, 0.000e+00, 8.820e+02, 0.000e+00, 0.000e+00,\n",
       "        0.000e+00, 0.000e+00, 0.000e+00, 8.540e+02, 0.000e+00, 0.000e+00,\n",
       "        0.000e+00, 0.000e+00, 9.090e+02, 0.000e+00, 0.000e+00, 0.000e+00,\n",
       "        0.000e+00, 8.350e+02, 0.000e+00, 0.000e+00, 0.000e+00, 0.000e+00,\n",
       "        0.000e+00, 9.040e+02, 0.000e+00, 0.000e+00, 0.000e+00, 0.000e+00,\n",
       "        9.320e+02, 0.000e+00, 0.000e+00, 0.000e+00, 0.000e+00, 0.000e+00,\n",
       "        1.023e+03, 0.000e+00, 0.000e+00, 0.000e+00, 0.000e+00, 1.034e+03,\n",
       "        0.000e+00, 0.000e+00, 0.000e+00, 0.000e+00, 1.089e+03, 0.000e+00,\n",
       "        0.000e+00, 0.000e+00, 0.000e+00, 0.000e+00, 1.145e+03, 0.000e+00,\n",
       "        0.000e+00, 0.000e+00, 0.000e+00, 1.258e+03, 0.000e+00, 0.000e+00,\n",
       "        0.000e+00, 0.000e+00, 0.000e+00, 1.184e+03, 0.000e+00, 0.000e+00,\n",
       "        0.000e+00, 0.000e+00, 1.237e+03, 0.000e+00, 0.000e+00, 0.000e+00,\n",
       "        0.000e+00, 0.000e+00, 1.324e+03, 0.000e+00, 0.000e+00, 0.000e+00,\n",
       "        0.000e+00, 1.289e+03, 0.000e+00, 0.000e+00, 0.000e+00, 0.000e+00,\n",
       "        1.191e+03, 0.000e+00, 0.000e+00, 0.000e+00, 0.000e+00, 0.000e+00,\n",
       "        1.144e+03, 0.000e+00, 0.000e+00, 0.000e+00, 0.000e+00, 1.017e+03,\n",
       "        0.000e+00, 0.000e+00, 0.000e+00, 0.000e+00, 0.000e+00, 8.780e+02,\n",
       "        0.000e+00, 0.000e+00, 0.000e+00, 0.000e+00, 7.420e+02, 0.000e+00,\n",
       "        0.000e+00, 0.000e+00, 0.000e+00, 5.990e+02, 0.000e+00, 0.000e+00,\n",
       "        0.000e+00, 0.000e+00, 0.000e+00, 4.910e+02, 0.000e+00, 0.000e+00,\n",
       "        0.000e+00, 0.000e+00, 4.040e+02, 0.000e+00, 0.000e+00, 0.000e+00,\n",
       "        0.000e+00, 0.000e+00, 3.070e+02, 0.000e+00, 0.000e+00, 0.000e+00,\n",
       "        0.000e+00, 2.380e+02, 0.000e+00, 0.000e+00, 0.000e+00, 0.000e+00,\n",
       "        2.280e+02, 0.000e+00, 0.000e+00, 0.000e+00, 0.000e+00, 0.000e+00,\n",
       "        1.880e+02, 0.000e+00, 0.000e+00, 0.000e+00, 0.000e+00, 1.530e+02,\n",
       "        0.000e+00, 0.000e+00, 0.000e+00, 0.000e+00, 0.000e+00, 1.150e+02,\n",
       "        0.000e+00, 0.000e+00, 0.000e+00, 0.000e+00, 8.600e+01, 0.000e+00,\n",
       "        0.000e+00, 0.000e+00, 0.000e+00, 6.600e+01, 0.000e+00, 0.000e+00,\n",
       "        0.000e+00, 0.000e+00, 0.000e+00, 5.100e+01, 0.000e+00, 0.000e+00,\n",
       "        0.000e+00, 0.000e+00, 5.000e+01, 0.000e+00, 0.000e+00, 0.000e+00,\n",
       "        0.000e+00, 0.000e+00, 2.500e+01, 0.000e+00, 0.000e+00, 0.000e+00,\n",
       "        0.000e+00, 2.300e+01, 0.000e+00, 0.000e+00, 0.000e+00, 0.000e+00,\n",
       "        2.200e+01, 0.000e+00, 0.000e+00, 0.000e+00, 0.000e+00, 0.000e+00,\n",
       "        1.800e+01, 0.000e+00, 0.000e+00, 0.000e+00, 0.000e+00, 1.200e+01,\n",
       "        0.000e+00, 0.000e+00, 0.000e+00, 0.000e+00, 0.000e+00, 1.000e+01,\n",
       "        0.000e+00, 0.000e+00, 0.000e+00, 0.000e+00, 7.000e+00, 0.000e+00,\n",
       "        0.000e+00, 0.000e+00, 0.000e+00, 4.000e+00, 0.000e+00, 0.000e+00,\n",
       "        0.000e+00, 0.000e+00, 0.000e+00, 6.000e+00, 0.000e+00, 0.000e+00,\n",
       "        0.000e+00, 0.000e+00, 5.000e+00, 0.000e+00, 0.000e+00, 0.000e+00,\n",
       "        0.000e+00, 0.000e+00, 6.000e+00, 0.000e+00, 0.000e+00, 0.000e+00,\n",
       "        0.000e+00, 3.000e+00, 0.000e+00, 0.000e+00, 0.000e+00, 0.000e+00,\n",
       "        4.000e+00, 0.000e+00, 0.000e+00, 0.000e+00, 0.000e+00, 0.000e+00,\n",
       "        3.000e+00, 0.000e+00, 0.000e+00, 0.000e+00, 0.000e+00, 0.000e+00,\n",
       "        0.000e+00, 0.000e+00, 0.000e+00, 0.000e+00, 0.000e+00, 2.000e+00,\n",
       "        0.000e+00, 0.000e+00, 0.000e+00, 0.000e+00, 0.000e+00, 0.000e+00,\n",
       "        0.000e+00, 0.000e+00, 0.000e+00, 1.000e+00]),\n",
       " array([ 20.   ,  20.185,  20.37 , ..., 204.63 , 204.815, 205.   ]),\n",
       " [<matplotlib.patches.Polygon at 0x1f4d3904320>])"
      ]
     },
     "execution_count": 9,
     "metadata": {},
     "output_type": "execute_result"
    },
    {
     "data": {
      "image/png": "[encoded data removed]",
      "text/plain": [
       "<Figure size 640x480 with 1 Axes>"
      ]
     },
     "metadata": {},
     "output_type": "display_data"
    }
   ],
   "source": [
    "#to see all components in the same window\n",
    "\n",
    "red = img[:,:,0].flatten()\n",
    "green = img[:,:,1].flatten()\n",
    "blue = img[:,:,2].flatten()\n",
    "\n",
    "#red component has values closer to 0\n",
    "plt.hist(red, bins=1000, histtype='stepfilled', color='red')\n",
    "#intermediate values\n",
    "plt.hist(green, bins=1000, histtype='stepfilled', color='green')\n",
    "#blue component has values closer to 255\n",
    "plt.hist(blue, bins=1000, histtype='stepfilled', color='blue')"
   ]
  },
  {
   "cell_type": "code",
   "execution_count": 10,
   "metadata": {},
   "outputs": [],
   "source": [
    "cv2.imshow('img', mask)\n",
    "cv2.waitKey(0)\n",
    "cv2.destroyAllWindows()"
   ]
  },
  {
   "cell_type": "code",
   "execution_count": null,
   "metadata": {},
   "outputs": [],
   "source": []
  },
  {
   "cell_type": "code",
   "execution_count": null,
   "metadata": {},
   "outputs": [],
   "source": []
  }
 ],
 "metadata": {
  "kernelspec": {
   "display_name": "opencv",
   "language": "python",
   "name": "python3"
  },
  "language_info": {
   "codemirror_mode": {
    "name": "ipython",
    "version": 3
   },
   "file_extension": ".py",
   "mimetype": "text/x-python",
   "name": "python",
   "nbconvert_exporter": "python",
   "pygments_lexer": "ipython3",
   "version": "3.7.1"
  }
 },
 "nbformat": 4,
 "nbformat_minor": 2
}
